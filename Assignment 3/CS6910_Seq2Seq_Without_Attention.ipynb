{
  "nbformat": 4,
  "nbformat_minor": 0,
  "metadata": {
    "colab": {
      "provenance": [],
      "gpuType": "T4"
    },
    "kernelspec": {
      "name": "python3",
      "display_name": "Python 3"
    },
    "language_info": {
      "name": "python"
    },
    "accelerator": "GPU",
    "gpuClass": "standard"
  },
  "cells": [
    {
      "cell_type": "markdown",
      "source": [
        "Import Statements"
      ],
      "metadata": {
        "id": "MeqLhPeZ-KgA"
      }
    },
    {
      "cell_type": "code",
      "execution_count": null,
      "metadata": {
        "id": "kHedW0Sg9OWJ"
      },
      "outputs": [],
      "source": [
        "from __future__ import unicode_literals, print_function, division\n",
        "from io import open\n",
        "import unicodedata\n",
        "import string\n",
        "import re\n",
        "import random\n",
        "import csv\n",
        "import os\n",
        "import pandas as pd\n",
        "\n",
        "import torch\n",
        "import torch.nn as nn\n",
        "from torch import optim\n",
        "import torch.nn.functional as F\n",
        "\n",
        "device = torch.device(\"cuda\" if torch.cuda.is_available() else \"cpu\")"
      ]
    },
    {
      "cell_type": "code",
      "source": [
        "%%capture\n",
        "!pip install wandb"
      ],
      "metadata": {
        "id": "Z9Vu66XSK1wq"
      },
      "execution_count": null,
      "outputs": []
    },
    {
      "cell_type": "code",
      "source": [
        "import wandb"
      ],
      "metadata": {
        "id": "EgV5h4O3mtYT"
      },
      "execution_count": null,
      "outputs": []
    },
    {
      "cell_type": "markdown",
      "source": [
        "Load Data"
      ],
      "metadata": {
        "id": "Kj9Q6U7--PWb"
      }
    },
    {
      "cell_type": "code",
      "source": [
        "# Mount Drive\n",
        "from google.colab import drive\n",
        "drive.mount('/content/drive')"
      ],
      "metadata": {
        "colab": {
          "base_uri": "https://localhost:8080/"
        },
        "id": "9zlvNB4o-H5B",
        "outputId": "91f53a06-83a1-46e8-f50b-c712096f98ae"
      },
      "execution_count": null,
      "outputs": [
        {
          "output_type": "stream",
          "name": "stdout",
          "text": [
            "Mounted at /content/drive\n"
          ]
        }
      ]
    },
    {
      "cell_type": "code",
      "source": [
        "# Unzip data to local session\n",
        "%%capture\n",
        "!unzip \"/content/drive/MyDrive/aksharantar_sampled.zip\""
      ],
      "metadata": {
        "id": "lSzg7ztV-x3K"
      },
      "execution_count": null,
      "outputs": []
    },
    {
      "cell_type": "code",
      "source": [
        "# Detect all languages\n",
        "datafolder_path = \"/content/aksharantar_sampled/\"\n",
        "languages = [name for name in os.listdir(datafolder_path) if os.path.isdir(os.path.join(datafolder_path, name))]\n",
        "# print(languages)"
      ],
      "metadata": {
        "id": "4BVGfzjI_J5m"
      },
      "execution_count": null,
      "outputs": []
    },
    {
      "cell_type": "code",
      "source": [
        "# Read Data\n",
        "allData = {}\n",
        "language = 'tam'\n",
        "languages = ['tam']\n",
        "datasetCategories = [\"train\", \"test\", \"valid\"]\n",
        "dataPath = datafolder_path + language + \"/\"\n",
        "allData[language] = {}\n",
        "for category in datasetCategories:\n",
        "    allData[language][category] = pd.read_csv(dataPath + language + \"_\" + category + \".csv\", header = None)"
      ],
      "metadata": {
        "id": "gssaGpHcB7vQ"
      },
      "execution_count": null,
      "outputs": []
    },
    {
      "cell_type": "code",
      "source": [
        "train_pairs = []\n",
        "for language in languages:\n",
        "    for idx in range(len(allData[language]['train'][0])):\n",
        "        pair = [allData[language]['train'][0][idx], allData[language]['train'][1][idx]]\n",
        "        train_pairs.append(pair)\n",
        "\n",
        "val_pairs = []\n",
        "for language in languages:\n",
        "    for idx in range(len(allData[language]['valid'][0])):\n",
        "        pair = [allData[language]['valid'][0][idx], allData[language]['valid'][1][idx]]\n",
        "        val_pairs.append(pair)\n",
        "\n",
        "test_pairs = []\n",
        "for language in languages:\n",
        "    for idx in range(len(allData[language]['test'][0])):\n",
        "        pair = [allData[language]['test'][0][idx], allData[language]['test'][1][idx]]\n",
        "        test_pairs.append(pair)"
      ],
      "metadata": {
        "id": "e6u-9Vu5G4oK"
      },
      "execution_count": null,
      "outputs": []
    },
    {
      "cell_type": "markdown",
      "source": [
        "Create Language Model"
      ],
      "metadata": {
        "id": "vFngwpCBE7oW"
      }
    },
    {
      "cell_type": "code",
      "source": [
        "class LangModel:\n",
        "    def __init__(self, name = \"devanagiri\"):\n",
        "        self.name = name\n",
        "        self.character2index = {\"SOW\" : 0, \"EOW\" : 1}\n",
        "        self.index2character = {0 : \"SOW\", 1 : \"EOW\"}\n",
        "        self.nCharacters = 2\n",
        "        self.character2count = {}\n",
        "\n",
        "    def addWord(self, word):\n",
        "        for character in word:\n",
        "            self.addCharacter(character)\n",
        "    \n",
        "    def addCharacter(self, character):\n",
        "        if character not in self.character2index:\n",
        "            self.character2index[character] = self.nCharacters\n",
        "            self.character2count[character] = 1\n",
        "            self.index2character[self.nCharacters] = character\n",
        "            self.nCharacters += 1\n",
        "        else:\n",
        "            self.character2count[character] += 1\n"
      ],
      "metadata": {
        "id": "Yz2jFxRfE-Yz"
      },
      "execution_count": null,
      "outputs": []
    },
    {
      "cell_type": "code",
      "source": [
        "def prepareData(allData, languages):\n",
        "    inputModel = LangModel(name = 'eng')\n",
        "    outputModel = LangModel()\n",
        "    for language in languages:\n",
        "        nSamples = len(allData[language]['train'])\n",
        "        for i in range(nSamples):\n",
        "            inputModel.addWord(allData[language]['train'][0][i])\n",
        "            outputModel.addWord(allData[language]['train'][1][i])\n",
        "    return inputModel, outputModel"
      ],
      "metadata": {
        "id": "XWSbnPhbOcVV"
      },
      "execution_count": null,
      "outputs": []
    },
    {
      "cell_type": "code",
      "source": [
        "input_lang, output_lang = prepareData(allData, languages)"
      ],
      "metadata": {
        "id": "ejaDYRVxQDrL"
      },
      "execution_count": null,
      "outputs": []
    },
    {
      "cell_type": "markdown",
      "source": [
        "Preparing Training Data"
      ],
      "metadata": {
        "id": "Mt12UyzlV6V3"
      }
    },
    {
      "cell_type": "code",
      "source": [
        "def indexesFromWord(lang, word):\n",
        "    return [lang.character2index[character] for character in word]\n",
        "\n",
        "def tensorFromWord(lang, word):\n",
        "    indexes = indexesFromWord(lang, word)\n",
        "    indexes.append(lang.character2index[\"EOW\"])\n",
        "    return torch.tensor(indexes, dtype=torch.long, device=device).view(-1, 1)\n",
        "\n",
        "def tensorsFromPair(pair):\n",
        "    input_tensor = tensorFromWord(input_lang, pair[0])\n",
        "    target_tensor = tensorFromWord(output_lang, pair[1])\n",
        "    return (input_tensor, target_tensor)"
      ],
      "metadata": {
        "id": "0jq0XRlrV5lq"
      },
      "execution_count": null,
      "outputs": []
    },
    {
      "cell_type": "markdown",
      "source": [
        "Seq2Seq Model"
      ],
      "metadata": {
        "id": "5gVN8c4zEUON"
      }
    },
    {
      "cell_type": "code",
      "source": [
        "class EncoderRNN(nn.Module):\n",
        "    def __init__(self, input_size, hidden_size, num_layers = 3, embedding_size = 256, bidirectional = True, cell_type = \"GRU\"):\n",
        "        super(EncoderRNN, self).__init__()\n",
        "        self.hidden_size = hidden_size\n",
        "        self.embedding_size = embedding_size\n",
        "        self.num_layers = num_layers\n",
        "        self.embedding = nn.Embedding(input_size, embedding_size)\n",
        "        self.bidirectional = bidirectional\n",
        "        self.cell_type = cell_type\n",
        "        if cell_type == \"RNN\":\n",
        "            self.rnn = nn.RNN(embedding_size, hidden_size, bidirectional = bidirectional, num_layers = num_layers)\n",
        "        elif cell_type == \"LSTM\":\n",
        "            self.lstm = nn.LSTM(embedding_size, hidden_size, bidirectional = bidirectional, num_layers = num_layers)\n",
        "        else:\n",
        "            self.gru = nn.GRU(embedding_size, hidden_size, bidirectional = bidirectional, num_layers = num_layers)\n",
        "\n",
        "    def forward(self, input, hidden, c):\n",
        "        # print(\"Encoder\")\n",
        "        # print(\"Input shape :\", input.shape)\n",
        "        embedded = self.embedding(input).view(1, 1, -1)\n",
        "        # print(\"Embedded shape :\", embedded.shape)\n",
        "        output = embedded\n",
        "        if self.cell_type == \"RNN\":\n",
        "            output, hidden = self.rnn(output, hidden)\n",
        "        elif self.cell_type == \"LSTM\":\n",
        "            output, (hiddden, c) = self.lstm(output, (hidden, c))\n",
        "        else:\n",
        "            output, hidden = self.gru(output, hidden)\n",
        "        # print(\"output shape :\", output.shape)\n",
        "        # print(\"hidden shape :\", hidden.shape)\n",
        "        return output, hidden\n",
        "\n",
        "    def initHidden(self):\n",
        "        return torch.zeros(self.num_layers, 1, self.hidden_size, device=device), torch.zeros(self.num_layers, 1, self.hidden_size, device=device)"
      ],
      "metadata": {
        "id": "OR-lXZVhET7u"
      },
      "execution_count": null,
      "outputs": []
    },
    {
      "cell_type": "code",
      "source": [
        "class DecoderRNN(nn.Module):\n",
        "    def __init__(self, hidden_size, output_size, dropout_p = 0, bidirectional = True, num_layers = 3, embedding_size = 256, cell_type = \"GRU\"):\n",
        "        super(DecoderRNN, self).__init__()\n",
        "        self.hidden_size = hidden_size\n",
        "        self.dropout_p = dropout_p\n",
        "        self.num_layers = num_layers\n",
        "        self.embedding_size = embedding_size\n",
        "        self.bidirectional = bidirectional\n",
        "        self.cell_type = cell_type\n",
        "        # # print(output_size, embedding_size)\n",
        "\n",
        "        self.embedding = nn.Embedding(output_size, embedding_size)\n",
        "        self.dropout = nn.Dropout(self.dropout_p)\n",
        "        if cell_type == \"RNN\":\n",
        "            self.rnn = nn.RNN(embedding_size, hidden_size, bidirectional = bidirectional, num_layers = num_layers)\n",
        "        elif cell_type == \"LSTM\":\n",
        "            self.lstm = nn.LSTM(embedding_size, hidden_size, bidirectional = bidirectional, num_layers = num_layers)\n",
        "        else:\n",
        "            self.gru = nn.GRU(embedding_size, hidden_size, bidirectional = bidirectional, num_layers = num_layers)\n",
        "        self.out = nn.Linear(hidden_size, output_size)\n",
        "        self.softmax = nn.LogSoftmax(dim=1)\n",
        "\n",
        "    def forward(self, input, hidden, c):\n",
        "        # print(input.shape)\n",
        "        output = self.embedding(input)\n",
        "        # print(output.shape)\n",
        "        output = output.view(1, 1, -1)\n",
        "        output = F.relu(output)\n",
        "        if self.cell_type == \"RNN\":\n",
        "            output, hidden = self.rnn(output, hidden)\n",
        "        elif self.cell_type == \"LSTM\":\n",
        "            output, (hiddden, c) = self.lstm(output, (hidden, c))\n",
        "        else:\n",
        "            output, hidden = self.gru(output, hidden)\n",
        "        output = self.softmax(self.out(output[0]))\n",
        "        return output, hidden\n",
        "\n",
        "    def initHidden(self):\n",
        "        return torch.zeros(self.num_layers, 1, self.hidden_size, device=device), torch.zeros(self.num_layers, 1, self.hidden_size, device=device)"
      ],
      "metadata": {
        "id": "LktF4ksOhwYt"
      },
      "execution_count": null,
      "outputs": []
    },
    {
      "cell_type": "markdown",
      "source": [
        "Training Loop"
      ],
      "metadata": {
        "id": "nJc7oDuZeiin"
      }
    },
    {
      "cell_type": "code",
      "source": [
        "teacher_forcing_ratio = 0.5\n",
        "SOS_token = 0\n",
        "EOS_token = 1\n",
        "MAX_LENGTH = input_lang.nCharacters + 10\n",
        "\n",
        "def train(input_tensor, target_tensor, encoder, decoder, encoder_optimizer, decoder_optimizer, criterion, max_length=MAX_LENGTH):\n",
        "    encoder_hidden, c = encoder.initHidden()\n",
        "    # # print(encoder_hidden.shape)\n",
        "    encoder_optimizer.zero_grad()\n",
        "    decoder_optimizer.zero_grad()\n",
        "\n",
        "    input_length = input_tensor.size(0)\n",
        "    target_length = target_tensor.size(0)\n",
        "\n",
        "    encoder_outputs = torch.zeros(max_length, encoder.hidden_size, device=device)\n",
        "\n",
        "    loss = 0\n",
        "\n",
        "    for ei in range(input_length):\n",
        "        encoder_output, encoder_hidden = encoder(\n",
        "            input_tensor[ei], encoder_hidden, c)\n",
        "        # encoder_outputs[ei] = encoder_output[0, 0]\n",
        "\n",
        "    decoder_input = torch.tensor([[SOS_token]], device=device)\n",
        "\n",
        "    decoder_hidden = encoder_hidden\n",
        "\n",
        "    use_teacher_forcing = True if random.random() < teacher_forcing_ratio else False\n",
        "\n",
        "    if use_teacher_forcing:\n",
        "        # Teacher forcing: Feed the target as the next input\n",
        "        for di in range(target_length):\n",
        "            decoder_output, decoder_hidden = decoder(\n",
        "                decoder_input, decoder_hidden, c)\n",
        "            loss += criterion(decoder_output, target_tensor[di])\n",
        "            decoder_input = target_tensor[di]  # Teacher forcing\n",
        "\n",
        "    else:\n",
        "        # Without teacher forcing: use its own predictions as the next input\n",
        "        for di in range(target_length):\n",
        "            decoder_output, decoder_hidden= decoder(\n",
        "                decoder_input, decoder_hidden, c)\n",
        "            topv, topi = decoder_output.topk(1)\n",
        "            decoder_input = topi.squeeze().detach()  # detach from history as input\n",
        "\n",
        "            loss += criterion(decoder_output, target_tensor[di])\n",
        "            if decoder_input.item() == EOS_token:\n",
        "                break\n",
        "\n",
        "    loss.backward()\n",
        "\n",
        "    encoder_optimizer.step()\n",
        "    decoder_optimizer.step()\n",
        "\n",
        "    return loss.item() / target_length"
      ],
      "metadata": {
        "id": "2MAPnjBbd6R9"
      },
      "execution_count": null,
      "outputs": []
    },
    {
      "cell_type": "code",
      "source": [
        "def trainIters(pairs, encoder, decoder, n_iters, print_every=1000, learning_rate=0.01):\n",
        "    plot_losses = []\n",
        "    plot_valacc = []\n",
        "    print_loss_total = 0  # Reset every print_every\n",
        "    plot_loss_total = 0  # Reset every plot_every\n",
        "\n",
        "    encoder_optimizer = optim.SGD(encoder.parameters(), lr=learning_rate)\n",
        "    decoder_optimizer = optim.SGD(decoder.parameters(), lr=learning_rate)\n",
        "    training_pairs = [tensorsFromPair(random.choice(pairs))\n",
        "                      for i in range(n_iters)]\n",
        "    criterion = nn.NLLLoss()\n",
        "\n",
        "    for iter in range(1, n_iters + 1):\n",
        "        training_pair = training_pairs[iter - 1]\n",
        "        input_tensor = training_pair[0]\n",
        "        target_tensor = training_pair[1]\n",
        "\n",
        "        loss = train(input_tensor, target_tensor, encoder,\n",
        "                     decoder, encoder_optimizer, decoder_optimizer, criterion)\n",
        "        print_loss_total += loss\n",
        "        plot_loss_total += loss\n",
        "\n",
        "        if iter % print_every == 0:\n",
        "            print(\"Iteration :\", iter)\n",
        "            print_loss_avg = print_loss_total / print_every\n",
        "            print_loss_total = 0\n",
        "\n",
        "            # val_acc = calc_acc(encoder, decoder, val_pairs)\n",
        "            plot_losses.append(print_loss_avg)\n",
        "            # plot_valacc.append(val_acc)\n",
        "            # wandb.log({\"train_loss\" : print_loss_avg})\n",
        "            # print(\"Loss :\", print_loss_avg)\n",
        "            \n",
        "            val_acc = calc_acc(encoder, decoder, val_pairs)\n",
        "            plot_valacc.append(val_acc)\n",
        "            # wandb.log({\"val_acc\" : val_acc})\n",
        "            # print(\"Val Acc:\", val_acc)\n",
        "\n",
        "    return plot_losses, plot_valacc\n",
        "  "
      ],
      "metadata": {
        "id": "-h7JyOrue7mc"
      },
      "execution_count": null,
      "outputs": []
    },
    {
      "cell_type": "code",
      "source": [
        "def evaluate(encoder, decoder, word, max_length=MAX_LENGTH):\n",
        "    with torch.no_grad():\n",
        "        input_tensor = tensorFromWord(input_lang, word)\n",
        "        input_length = input_tensor.size()[0]\n",
        "        encoder_hidden, c = encoder.initHidden()\n",
        "\n",
        "        encoder_outputs = torch.zeros(max_length, encoder.hidden_size, device=device)\n",
        "\n",
        "        for ei in range(input_length):\n",
        "            encoder_output, encoder_hidden = encoder(input_tensor[ei],\n",
        "                                                     encoder_hidden, c)\n",
        "            # encoder_outputs[ei] += encoder_output[0, 0]\n",
        "\n",
        "        decoder_input = torch.tensor([[SOS_token]], device=device)  # SOS\n",
        "\n",
        "        decoder_hidden = encoder_hidden\n",
        "\n",
        "        decoded_words = []\n",
        "        decoder_attentions = torch.zeros(max_length, max_length)\n",
        "\n",
        "        for di in range(max_length):\n",
        "            decoder_output, decoder_hidden = decoder(\n",
        "                decoder_input, decoder_hidden, c)\n",
        "            \n",
        "            topv, topi = decoder_output.data.topk(1)\n",
        "            if topi.item() == EOS_token:\n",
        "                decoded_words.append('<EOW>')\n",
        "                break\n",
        "            else:\n",
        "                decoded_words.append(output_lang.index2character[topi.item()])\n",
        "\n",
        "            decoder_input = topi.squeeze().detach()\n",
        "\n",
        "        return decoded_words"
      ],
      "metadata": {
        "id": "NOJNmIX1e-KK"
      },
      "execution_count": null,
      "outputs": []
    },
    {
      "cell_type": "code",
      "source": [
        "def calc_acc(encoder, decoder, data_pairs):\n",
        "    num_correct = 0\n",
        "    num_total = 0\n",
        "    for pair in data_pairs:\n",
        "        pred = \"\"\n",
        "        for c in evaluate(encoder, decoder, pair[0])[:-1]:\n",
        "            pred += c\n",
        "        num_total += 1\n",
        "        if(pred == pair[1]):\n",
        "            num_correct += 1\n",
        "    return num_correct/num_total"
      ],
      "metadata": {
        "id": "EbIwOdYKF6ER"
      },
      "execution_count": null,
      "outputs": []
    },
    {
      "cell_type": "code",
      "source": [
        "# hidden_size = 257\n",
        "# encoder1 = EncoderRNN(input_lang.nCharacters, hidden_size, bidirectional = False, cell_type = \"LSTM\").to(device)\n",
        "# decoder1 = DecoderRNN(hidden_size, output_lang.nCharacters, bidirectional = False, cell_type = \"LSTM\").to(device)\n",
        "\n",
        "# trainIters(train_pairs, encoder1, decoder1, 25000, print_every=2500, learning_rate = 0.001)"
      ],
      "metadata": {
        "id": "4KOVJNexo0KB"
      },
      "execution_count": null,
      "outputs": []
    },
    {
      "cell_type": "markdown",
      "source": [
        "Wandb Sweeps"
      ],
      "metadata": {
        "id": "wnawYBmdKwQq"
      }
    },
    {
      "cell_type": "code",
      "source": [
        "import wandb\n",
        "wandb.login()"
      ],
      "metadata": {
        "colab": {
          "base_uri": "https://localhost:8080/"
        },
        "id": "9YCKmp2hLJXx",
        "outputId": "d0755828-027f-48f5-f98e-3c616bf13963"
      },
      "execution_count": null,
      "outputs": [
        {
          "output_type": "execute_result",
          "data": {
            "text/plain": [
              "True"
            ]
          },
          "metadata": {},
          "execution_count": 29
        }
      ]
    },
    {
      "cell_type": "code",
      "source": [
        "sweep_config = {\n",
        "    \"name\": \"Bayesian Sweep without attention\",\n",
        "    \"method\": \"bayes\",\n",
        "    \"metric\": {\"name\": \"val_acc\", \"goal\": \"maximize\"},\n",
        "    \"parameters\": {\n",
        "        \n",
        "        \"num_layers\" : {\"values\" : [1, 2, 3]},\n",
        "\n",
        "        \"cell_type\" : {\"values\" : [\"LSTM\", \"RNN\", \"GRU\"]},\n",
        "\n",
        "        \"dropout\" : {\"values\" : [0, 0.2, 0.3]},\n",
        "\n",
        "        \"embedding_size\" : {\"values\" : [32, 128, 256]},\n",
        "\n",
        "        \"learning_rate\" : {\"values\" : [0.001, 0.01]}\n",
        "    }\n",
        "}"
      ],
      "metadata": {
        "id": "DDOR8PHZKwCd"
      },
      "execution_count": null,
      "outputs": []
    },
    {
      "cell_type": "code",
      "source": [
        "def create_and_train_model(config = None):\n",
        "    \n",
        "    with wandb.init(config = config, project = \"CS6910-A3\") as run:\n",
        "        \n",
        "        config = wandb.config\n",
        "\n",
        "        name_str = \"nl_\" + str(config['num_layers']) + \"_\" + str(config['cell_type']) + \"_d_\" + str(config['dropout']) + \"_es_\" + str(config['embedding_size']) + \"_lr_\" + str(config['learning_rate'])\n",
        "        run.name = name_str\n",
        "\n",
        "        embedding_size = config['embedding_size']\n",
        "        bidirectional = False\n",
        "        dropout_p = config['dropout']\n",
        "        cell_type = config['cell_type']\n",
        "        num_layers = config['num_layers']\n",
        "        learning_rate = config['learning_rate']\n",
        "        hidden_size = 256\n",
        "\n",
        "        encoder = EncoderRNN(input_lang.nCharacters, hidden_size, num_layers, embedding_size, bidirectional, cell_type).to(device)\n",
        "        decoder = DecoderRNN(hidden_size, output_lang.nCharacters, dropout_p, bidirectional, num_layers, embedding_size, cell_type).to(device)\n",
        "\n",
        "        # We will train for 50000 iterations and select the most promising\n",
        "        losses, valaccs = trainIters(train_pairs, encoder, decoder, 50000, print_every = 5000, learning_rate = learning_rate)\n",
        "\n",
        "        for idx in range(len(losses)):\n",
        "            wandb.log({\"train_loss\" : losses[idx],\n",
        "                       \"val_acc\" : valaccs[idx],\n",
        "                       \"iterations\" : 5000*(idx + 1)})\n"
      ],
      "metadata": {
        "id": "xzgHWDuxM1fO"
      },
      "execution_count": null,
      "outputs": []
    },
    {
      "cell_type": "code",
      "source": [
        "sweep_id = wandb.sweep(sweep_config, project = \"CS6910-A3\")"
      ],
      "metadata": {
        "colab": {
          "base_uri": "https://localhost:8080/"
        },
        "id": "iaeeeeFWs1M-",
        "outputId": "405d74d3-4e7b-4f5d-b69b-c62fec7fcb0f"
      },
      "execution_count": null,
      "outputs": [
        {
          "output_type": "stream",
          "name": "stdout",
          "text": [
            "Create sweep with ID: ctjyxywh\n",
            "Sweep URL: https://wandb.ai/mani-ml/CS6910-A3/sweeps/ctjyxywh\n"
          ]
        }
      ]
    },
    {
      "cell_type": "code",
      "source": [
        "agent = wandb.agent(sweep_id, function = create_and_train_model, project = \"CS6910-A3\", count = 30)\n",
        "wandb.finish()"
      ],
      "metadata": {
        "id": "h3_CLhkqspAc"
      },
      "execution_count": null,
      "outputs": []
    },
    {
      "cell_type": "code",
      "source": [
        "def evaluateRandomly(pairs, encoder, decoder, n=10):\n",
        "    for i in range(n):\n",
        "        pair = random.choice(pairs)\n",
        "        print('>', pair[0])\n",
        "        print('=', pair[1])\n",
        "        output_words = evaluate(encoder, decoder, pair[0])\n",
        "        output_Word = ''.join(output_words[:-1])\n",
        "        print('<', output_Word)\n",
        "        print('')"
      ],
      "metadata": {
        "id": "3WSNsznTfIT3"
      },
      "execution_count": null,
      "outputs": []
    },
    {
      "cell_type": "code",
      "source": [],
      "metadata": {
        "id": "AfrosxG32vhA"
      },
      "execution_count": null,
      "outputs": []
    }
  ]
}